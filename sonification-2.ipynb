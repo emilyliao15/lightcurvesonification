{
 "cells": [
  {
   "cell_type": "markdown",
   "id": "5d087030",
   "metadata": {},
   "source": [
    "# import "
   ]
  },
  {
   "cell_type": "code",
   "execution_count": 300,
   "id": "9ee74996",
   "metadata": {},
   "outputs": [
    {
     "name": "stdout",
     "output_type": "stream",
     "text": [
      "MIDIUtil library found.\n"
     ]
    }
   ],
   "source": [
    "# Import necessary libraries\n",
    "import numpy as np\n",
    "import matplotlib.pyplot as plt\n",
    "import lightkurve as lk\n",
    "import sounddevice as sd\n",
    "from scipy.io.wavfile import write as wav_write, read as wav_read # Added read for pydub example\n",
    "import os # For checking file existence\n",
    "\n",
    "%matplotlib inline\n",
    "\n",
    "try:\n",
    "    from midiutil import MIDIFile\n",
    "    midiutil_available = True\n",
    "    print(\"MIDIUtil library found.\")\n",
    "except ImportError:\n",
    "    print(\"MIDIUtil library not found. pip install MIDIUtil\")\n",
    "    midiutil_available = False\n",
    "\n",
    "# Ensure sounddevice defaults (can be set in Session 3 notebook too)\n",
    "sd.default.samplerate = 44100\n",
    "sd.default.channels = 1"
   ]
  },
  {
   "cell_type": "markdown",
   "id": "1eb1a955",
   "metadata": {},
   "source": [
    "# HAT-P-7 b"
   ]
  },
  {
   "cell_type": "markdown",
   "id": "6b028f95",
   "metadata": {},
   "source": [
    "violin for high freq and cello for low freq"
   ]
  },
  {
   "cell_type": "code",
   "execution_count": 301,
   "id": "d5434d84",
   "metadata": {},
   "outputs": [
    {
     "name": "stdout",
     "output_type": "stream",
     "text": [
      "Processing HAT-P-7 Quarter 4 data...\n",
      "14\n",
      "Using 14 data points for MIDI sonification.\n"
     ]
    },
    {
     "name": "stderr",
     "output_type": "stream",
     "text": [
      "/var/folders/94/wcjh9dks4t39_w2np3l4nj0m0000gn/T/ipykernel_17369/3900561286.py:7: LightkurveDeprecationWarning: The PDCSAP_FLUX function is deprecated and may be removed in a future version.\n",
      "  lc_processed = lcf_kepler.PDCSAP_FLUX.remove_nans().normalize().flatten(window_length=401).remove_outliers(sigma=5)\n"
     ]
    },
    {
     "data": {
      "image/png": "[encoded data removed]",
      "text/plain": [
       "<Figure size 800x300 with 1 Axes>"
      ]
     },
     "metadata": {},
     "output_type": "display_data"
    }
   ],
   "source": [
    "search_result_kepler_q4 = lk.search_lightcurve(\"HAT-P-7\", author=\"Kepler\", cadence=\"long\", quarter = 4)\n",
    "lc_transit_segment = None # Initialize\n",
    "print(\"Processing HAT-P-7 Quarter 4 data...\")\n",
    "# Download the first item from search result by default if not specifying index\n",
    "lcf_kepler = search_result_kepler_q4.download(quality_bitmask='default') \n",
    "\n",
    "lc_processed = lcf_kepler.PDCSAP_FLUX.remove_nans().normalize().flatten(window_length=401).remove_outliers(sigma=5)\n",
    "\n",
    "transit_center_time_bkjd = 401.368\n",
    "transit_duration_days = 0.3\n",
    "time_mask = (lc_processed.time.value > transit_center_time_bkjd - transit_duration_days / 2) & \\\n",
    "            (lc_processed.time.value < transit_center_time_bkjd + transit_duration_days / 2)\n",
    "\n",
    "lc_transit_segment = lc_processed[time_mask]\n",
    "\n",
    "print(len(lc_transit_segment.flux))\n",
    "\n",
    "if lc_transit_segment and len(lc_transit_segment.flux) > 0:\n",
    "    flux_data = lc_transit_segment.flux.value\n",
    "    time_data = lc_transit_segment.time.value # These are in BKJD\n",
    "    print(f\"Using {len(flux_data)} data points for MIDI sonification.\")\n",
    "    # Plot for confirmation\n",
    "    plt.figure(figsize=(8, 3))\n",
    "    plt.plot(time_data, flux_data, '.-')\n",
    "    plt.title(\"Light Curve Segment for MIDI Sonification\")\n",
    "    plt.xlabel(\"Time (BKJD)\")\n",
    "    plt.ylabel(\"Normalized Flux\")\n",
    "    plt.ylim(0.992, 1.002)\n",
    "    plt.show()"
   ]
  },
  {
   "cell_type": "code",
   "execution_count": 302,
   "id": "1a55178b",
   "metadata": {},
   "outputs": [
    {
     "name": "stdout",
     "output_type": "stream",
     "text": [
      "Tempo: 120 BPM\n",
      "MIDI Note Range: 55 - 79\n",
      "MIDI Velocity Range: 40 - 100\n",
      "Note Start Time Range (beats): 0.00 - 20.00\n",
      "Note Duration (beats): 0.4\n"
     ]
    }
   ],
   "source": [
    "if midiutil_available and len(flux_data) > 1:\n",
    "    # MIDI Parameters\n",
    "    output_midi_file = \"sonified_transit.mid\"\n",
    "    track = 0\n",
    "    channel = 0\n",
    "    tempo_bpm = 120  # Beats per minute (determines overall speed)\n",
    "\n",
    "    # Mapping Parameters\n",
    "    min_flux_val = np.min(flux_data)\n",
    "    max_flux_val = np.max(flux_data)\n",
    "    if min_flux_val == max_flux_val: # Avoid issues if flux is constant\n",
    "        max_flux_val += 1e-9 # Add a tiny offset to create a range\n",
    "        \n",
    "    min_midi_note = 55  # G3\n",
    "    max_midi_note = 79  # G5 (range of 2 octaves)\n",
    "    midi_notes = np.interp(flux_data, (min_flux_val, max_flux_val), (min_midi_note, max_midi_note)).astype(int)\n",
    "\n",
    "    min_velocity = 40  # Quiet\n",
    "    max_velocity = 100 # Loud\n",
    "    midi_velocities = np.interp(flux_data, (min_flux_val, max_flux_val), (min_velocity, max_velocity)).astype(int)\n",
    "\n",
    "    time_min_val = time_data[0]\n",
    "    time_max_val = time_data[-1]\n",
    "    \n",
    "    total_duration_sec_sonification = 10.0\n",
    "    total_beats = (tempo_bpm / 60.0) * total_duration_sec_sonification\n",
    "    \n",
    "    if time_min_val == time_max_val: \n",
    "        if len(time_data) > 1:\n",
    "             note_start_times_beats = np.linspace(0, total_beats if total_beats > 0 else 1.0, len(time_data))\n",
    "        else: \n",
    "             note_start_times_beats = np.array([0.0])\n",
    "    else:\n",
    "        note_start_times_beats = np.interp(time_data, (time_min_val, time_max_val), (0, total_beats))\n",
    "\n",
    "    note_duration_beats = 0.4 \n",
    "\n",
    "    print(f\"Tempo: {tempo_bpm} BPM\")\n",
    "    print(f\"MIDI Note Range: {np.min(midi_notes)} - {np.max(midi_notes)}\")\n",
    "    print(f\"MIDI Velocity Range: {np.min(midi_velocities)} - {np.max(midi_velocities)}\")\n",
    "    if len(note_start_times_beats) > 0:\n",
    "        print(f\"Note Start Time Range (beats): {note_start_times_beats[0]:.2f} - {note_start_times_beats[-1]:.2f}\")\n",
    "    print(f\"Note Duration (beats): {note_duration_beats}\")\n",
    "elif not midiutil_available:\n",
    "    print(\"MIDIUtil not available, skipping MIDI parameter definition.\")\n",
    "else: \n",
    "    print(\"Not enough data points (or flux_data not properly defined) for MIDI sonification, skipping MIDI parameter definition.\")"
   ]
  },
  {
   "cell_type": "code",
   "execution_count": 303,
   "id": "8743542f",
   "metadata": {},
   "outputs": [
    {
     "name": "stdout",
     "output_type": "stream",
     "text": [
      "MIDI file saved as: sonified_transit.mid\n",
      "You can now play this file using a MIDI player (e.g., QuickTime, GarageBand, online sequencer).\n"
     ]
    }
   ],
   "source": [
    "if midiutil_available and 'midi_notes' in locals() and len(midi_notes) > 0: \n",
    "    midi_obj = MIDIFile(1)\n",
    "    midi_obj.addTempo(track, 0, tempo_bpm) \n",
    "\n",
    "    for i in range(len(flux_data)):\n",
    "        pitch = midi_notes[i]\n",
    "        time_beats = note_start_times_beats[i]\n",
    "        duration = note_duration_beats\n",
    "        velocity = midi_velocities[i]\n",
    "        if pitch >= 67:\n",
    "            instrument = 40\n",
    "            channel = 1\n",
    "        else:\n",
    "            instrument = 42\n",
    "            channel = 0\n",
    "        if time_beats == 0:\n",
    "            midi_obj.addProgramChange(track, channel, 0, instrument)\n",
    "        midi_obj.addNote(track, channel, pitch, time_beats, duration, velocity)\n",
    "\n",
    "    try:\n",
    "        with open(output_midi_file, \"wb\") as f:\n",
    "            midi_obj.writeFile(f)\n",
    "        print(f\"MIDI file saved as: {output_midi_file}\")\n",
    "        print(\"You can now play this file using a MIDI player (e.g., QuickTime, GarageBand, online sequencer).\")\n",
    "    except Exception as e:\n",
    "        print(f\"Error writing MIDI file: {e}\")\n",
    "elif not midiutil_available:\n",
    "    print(\"MIDIUtil not available, skipping MIDI file creation.\")\n",
    "else:\n",
    "    print(\"Not enough data or MIDI parameters not defined, skipping MIDI file creation.\")"
   ]
  },
  {
   "cell_type": "markdown",
   "id": "d6a33fa4",
   "metadata": {},
   "source": [
    "# Kepler-10 b"
   ]
  },
  {
   "cell_type": "markdown",
   "id": "0068f094",
   "metadata": {},
   "source": [
    "woodwind instruments and inverted the frequency mapping"
   ]
  },
  {
   "cell_type": "code",
   "execution_count": 304,
   "id": "456af78f",
   "metadata": {},
   "outputs": [
    {
     "name": "stdout",
     "output_type": "stream",
     "text": [
      "Processing Kepler-10 Quarter 1 data...\n",
      "Light curve processed.\n",
      "15\n",
      "Using 15 data points for MIDI sonification.\n"
     ]
    },
    {
     "name": "stderr",
     "output_type": "stream",
     "text": [
      "/var/folders/94/wcjh9dks4t39_w2np3l4nj0m0000gn/T/ipykernel_17369/1282814284.py:7: LightkurveDeprecationWarning: The PDCSAP_FLUX function is deprecated and may be removed in a future version.\n",
      "  lc_processed = lcf_kepler.PDCSAP_FLUX.remove_nans().normalize().flatten(window_length=49).remove_outliers(sigma=5)\n"
     ]
    },
    {
     "data": {
      "image/png": "[encoded data removed]",
      "text/plain": [
       "<Figure size 800x300 with 1 Axes>"
      ]
     },
     "metadata": {},
     "output_type": "display_data"
    }
   ],
   "source": [
    "search_result_kepler_q1 = lk.search_lightcurve(\"Kepler-10\", author=\"Kepler\", cadence=\"long\", quarter = 1)\n",
    "lc_transit_segment = None # Initialize\n",
    "print(\"Processing Kepler-10 Quarter 1 data...\")\n",
    "# Download the first item from search result by default if not specifying index\n",
    "lcf_kepler = search_result_kepler_q1.download(quality_bitmask='default') \n",
    "\n",
    "lc_processed = lcf_kepler.PDCSAP_FLUX.remove_nans().normalize().flatten(window_length=49).remove_outliers(sigma=5)\n",
    "print(\"Light curve processed.\")\n",
    "\n",
    "\n",
    "transit_center_time_bkjd = 140.7869\n",
    "transit_duration_days = 0.3\n",
    "\n",
    "time_mask = (lc_processed.time.value > transit_center_time_bkjd - transit_duration_days / 2) & (lc_processed.time.value < transit_center_time_bkjd + transit_duration_days / 2)\n",
    "lc_transit_segment = lc_processed[time_mask]\n",
    "print(len(lc_transit_segment.time))\n",
    "\n",
    "if lc_transit_segment and len(lc_transit_segment.flux) > 0:\n",
    "    flux_data = lc_transit_segment.flux.value\n",
    "    time_data = lc_transit_segment.time.value # These are in BKJD\n",
    "    print(f\"Using {len(flux_data)} data points for MIDI sonification.\")\n",
    "    # Plot for confirmation\n",
    "    plt.figure(figsize=(8, 3))\n",
    "    plt.plot(time_data, flux_data, '.-')\n",
    "    plt.title(\"Light Curve Segment for MIDI Sonification\")\n",
    "    plt.xlabel(\"Time (BKJD)\")\n",
    "    plt.ylabel(\"Normalized Flux\")\n",
    "    plt.ylim(0.9995, 1.0005)\n",
    "    plt.show()"
   ]
  },
  {
   "cell_type": "code",
   "execution_count": 305,
   "id": "e15c0786",
   "metadata": {},
   "outputs": [
    {
     "name": "stdout",
     "output_type": "stream",
     "text": [
      "Tempo: 120 BPM\n",
      "MIDI Note Range: 55 - 79\n",
      "MIDI Velocity Range: 40 - 100\n",
      "Note Start Time Range (beats): 0.00 - 20.00\n",
      "Note Duration (beats): 0.4\n"
     ]
    }
   ],
   "source": [
    "if midiutil_available and len(flux_data) > 1:\n",
    "    # MIDI Parameters\n",
    "    output_midi_file = \"sonified_transit.mid\"\n",
    "    track = 0\n",
    "    channel = 0\n",
    "    tempo_bpm = 120  # Beats per minute (determines overall speed)\n",
    "\n",
    "    # Mapping Parameters\n",
    "    min_flux_val = np.min(flux_data)\n",
    "    max_flux_val = np.max(flux_data)\n",
    "    if min_flux_val == max_flux_val: # Avoid issues if flux is constant\n",
    "        max_flux_val += 1e-9 # Add a tiny offset to create a range\n",
    "        \n",
    "    min_midi_note = 55  # G3\n",
    "    max_midi_note = 79  # G5 (range of 2 octaves)\n",
    "    midi_notes = np.interp(flux_data, (min_flux_val, max_flux_val), (max_midi_note, min_midi_note)).astype(int) #i inverted this\n",
    "\n",
    "    min_velocity = 40  # Quiet\n",
    "    max_velocity = 100 # Loud\n",
    "    midi_velocities = np.interp(flux_data, (min_flux_val, max_flux_val), (max_velocity, min_velocity)).astype(int) #i inverted this\n",
    "\n",
    "    time_min_val = time_data[0]\n",
    "    time_max_val = time_data[-1]\n",
    "    \n",
    "    total_duration_sec_sonification = 10.0\n",
    "    total_beats = (tempo_bpm / 60.0) * total_duration_sec_sonification\n",
    "    \n",
    "    if time_min_val == time_max_val: \n",
    "        if len(time_data) > 1:\n",
    "             note_start_times_beats = np.linspace(0, total_beats if total_beats > 0 else 1.0, len(time_data))\n",
    "        else: \n",
    "             note_start_times_beats = np.array([0.0])\n",
    "    else:\n",
    "        note_start_times_beats = np.interp(time_data, (time_min_val, time_max_val), (0, total_beats))\n",
    "\n",
    "    note_duration_beats = 0.4 \n",
    "\n",
    "    print(f\"Tempo: {tempo_bpm} BPM\")\n",
    "    print(f\"MIDI Note Range: {np.min(midi_notes)} - {np.max(midi_notes)}\")\n",
    "    print(f\"MIDI Velocity Range: {np.min(midi_velocities)} - {np.max(midi_velocities)}\")\n",
    "    if len(note_start_times_beats) > 0:\n",
    "        print(f\"Note Start Time Range (beats): {note_start_times_beats[0]:.2f} - {note_start_times_beats[-1]:.2f}\")\n",
    "    print(f\"Note Duration (beats): {note_duration_beats}\")\n",
    "elif not midiutil_available:\n",
    "    print(\"MIDIUtil not available, skipping MIDI parameter definition.\")\n",
    "else: \n",
    "    print(\"Not enough data points (or flux_data not properly defined) for MIDI sonification, skipping MIDI parameter definition.\")"
   ]
  },
  {
   "cell_type": "code",
   "execution_count": 306,
   "id": "cacbfe87",
   "metadata": {},
   "outputs": [
    {
     "name": "stdout",
     "output_type": "stream",
     "text": [
      "MIDI file saved as: sonified_transit.mid\n",
      "You can now play this file using a MIDI player (e.g., QuickTime, GarageBand, online sequencer).\n"
     ]
    }
   ],
   "source": [
    "if midiutil_available and 'midi_notes' in locals() and len(midi_notes) > 0: \n",
    "    midi_obj = MIDIFile(1)\n",
    "    midi_obj.addTempo(track, 0, tempo_bpm) \n",
    "\n",
    "    for i in range(len(flux_data)):\n",
    "        pitch = midi_notes[i]\n",
    "        time_beats = note_start_times_beats[i]\n",
    "        duration = note_duration_beats\n",
    "        velocity = midi_velocities[i]\n",
    "        if pitch >= 67:\n",
    "            instrument = 73\n",
    "            channel = 1\n",
    "        else:\n",
    "            instrument = 70\n",
    "            channel = 0\n",
    "        if time_beats == 0:\n",
    "            midi_obj.addProgramChange(track, channel, 0, instrument)\n",
    "        midi_obj.addNote(track, channel, pitch, time_beats, duration, velocity)\n",
    "\n",
    "\n",
    "    try:\n",
    "        with open(output_midi_file, \"wb\") as f:\n",
    "            midi_obj.writeFile(f)\n",
    "        print(f\"MIDI file saved as: {output_midi_file}\")\n",
    "        print(\"You can now play this file using a MIDI player (e.g., QuickTime, GarageBand, online sequencer).\")\n",
    "    except Exception as e:\n",
    "        print(f\"Error writing MIDI file: {e}\")\n",
    "elif not midiutil_available:\n",
    "    print(\"MIDIUtil not available, skipping MIDI file creation.\")\n",
    "else:\n",
    "    print(\"Not enough data or MIDI parameters not defined, skipping MIDI file creation.\")"
   ]
  },
  {
   "cell_type": "markdown",
   "id": "01b02880",
   "metadata": {},
   "source": [
    "# KOI-94"
   ]
  },
  {
   "cell_type": "markdown",
   "id": "a9c3f636",
   "metadata": {},
   "source": [
    "long note durations for high flux, short note durations for low flux"
   ]
  },
  {
   "cell_type": "code",
   "execution_count": null,
   "id": "9ba4d70a",
   "metadata": {},
   "outputs": [
    {
     "name": "stdout",
     "output_type": "stream",
     "text": [
      "Processing HAT-P-7 Quarter 4 data...\n",
      "23\n",
      "Using 23 data points for MIDI sonification.\n"
     ]
    },
    {
     "name": "stderr",
     "output_type": "stream",
     "text": [
      "/Library/Frameworks/Python.framework/Versions/3.12/lib/python3.12/site-packages/lightkurve/search.py:424: LightkurveWarning: Warning: 2 files available to download. Only the first file has been downloaded. Please use `download_all()` or specify additional criteria (e.g. quarter, campaign, or sector) to limit your search.\n",
      "  warnings.warn(\n",
      "/var/folders/94/wcjh9dks4t39_w2np3l4nj0m0000gn/T/ipykernel_17369/2654213093.py:7: LightkurveDeprecationWarning: The PDCSAP_FLUX function is deprecated and may be removed in a future version.\n",
      "  lc_processed = lcf_kepler.PDCSAP_FLUX.remove_nans().normalize().flatten(window_length=401)\n"
     ]
    },
    {
     "data": {
      "image/png": "[encoded data removed]",
      "text/plain": [
       "<Figure size 800x300 with 1 Axes>"
      ]
     },
     "metadata": {},
     "output_type": "display_data"
    }
   ],
   "source": [
    "search_result_kepler_q1 = lk.search_lightcurve(\"KOI-94\", author=\"Kepler\", cadence=\"long\", quarter = 1)\n",
    "lc_transit_segment = None # Initialize\n",
    "print(\"Processing KOI-94 Quarter 1 data...\")\n",
    "# Download the first item from search result by default if not specifying index\n",
    "lcf_kepler = search_result_kepler_q1.download(quality_bitmask='default') \n",
    "\n",
    "lc_processed = lcf_kepler.PDCSAP_FLUX.remove_nans().normalize().flatten(window_length=401)\n",
    "\n",
    "transit_center_time_bkjd = 155.08\n",
    "transit_duration_days = 0.5\n",
    "time_mask = (lc_processed.time.value > transit_center_time_bkjd - transit_duration_days / 2) & \\\n",
    "            (lc_processed.time.value < transit_center_time_bkjd + transit_duration_days / 2)\n",
    "\n",
    "lc_transit_segment = lc_processed[time_mask]\n",
    "\n",
    "print(len(lc_transit_segment.flux))\n",
    "\n",
    "if lc_transit_segment and len(lc_transit_segment.flux) > 0:\n",
    "    flux_data = lc_transit_segment.flux.value\n",
    "    time_data = lc_transit_segment.time.value # These are in BKJD\n",
    "    print(f\"Using {len(flux_data)} data points for MIDI sonification.\")\n",
    "    # Plot for confirmation\n",
    "    plt.figure(figsize=(8, 3))\n",
    "    plt.plot(time_data, flux_data, '.-')\n",
    "    plt.title(\"Light Curve Segment for MIDI Sonification\")\n",
    "    plt.xlabel(\"Time (BKJD)\")\n",
    "    plt.ylabel(\"Normalized Flux\")\n",
    "    plt.ylim(0.992, 1.002)\n",
    "    plt.show()"
   ]
  },
  {
   "cell_type": "code",
   "execution_count": 308,
   "id": "0e08b8cf",
   "metadata": {},
   "outputs": [
    {
     "name": "stdout",
     "output_type": "stream",
     "text": [
      "Tempo: 120 BPM\n",
      "MIDI Note Range: 55 - 79\n",
      "Note Start Time Range (beats): 0.00 - 20.00\n",
      "Note Duration (beats): 0.4\n"
     ]
    }
   ],
   "source": [
    "if midiutil_available and len(flux_data) > 1:\n",
    "    # MIDI Parameters\n",
    "    output_midi_file = \"sonified_transit.mid\"\n",
    "    track = 0\n",
    "    channel = 0\n",
    "    tempo_bpm = 120  # Beats per minute (determines overall speed)\n",
    "\n",
    "    # Mapping Parameters\n",
    "    min_flux_val = np.min(flux_data)\n",
    "    max_flux_val = np.max(flux_data)\n",
    "    if min_flux_val == max_flux_val: # Avoid issues if flux is constant\n",
    "        max_flux_val += 1e-9 # Add a tiny offset to create a range\n",
    "        \n",
    "    min_midi_note = 55  # G3\n",
    "    max_midi_note = 79  # G5 (range of 2 octaves)\n",
    "    midi_notes = np.interp(flux_data, (min_flux_val, max_flux_val), (min_midi_note, max_midi_note)).astype(int)\n",
    "\n",
    "    #instead of velocity, adding note duration\n",
    "    min_duration = 0.125  # Short\n",
    "    max_duration = 4 # Long\n",
    "    midi_durations = np.interp(flux_data, (min_flux_val, max_flux_val), (min_duration, max_duration)) #no int\n",
    "\n",
    "    time_min_val = time_data[0]\n",
    "    time_max_val = time_data[-1]\n",
    "    \n",
    "    total_duration_sec_sonification = 10.0\n",
    "    total_beats = (tempo_bpm / 60.0) * total_duration_sec_sonification\n",
    "    \n",
    "    if time_min_val == time_max_val: \n",
    "        if len(time_data) > 1:\n",
    "              note_start_times_beats = np.linspace(0, total_beats if total_beats > 0 else 1.0, len(time_data))\n",
    "        else: \n",
    "              note_start_times_beats = np.array([0.0])\n",
    "    else:\n",
    "        note_start_times_beats = np.interp(time_data, (time_min_val, time_max_val), (0, total_beats))\n",
    "\n",
    "    note_duration_beats = 0.4 \n",
    "\n",
    "\n",
    "    print(f\"Tempo: {tempo_bpm} BPM\")\n",
    "    print(f\"MIDI Note Range: {np.min(midi_notes)} - {np.max(midi_notes)}\")\n",
    "    if len(note_start_times_beats) > 0:\n",
    "        print(f\"Note Start Time Range (beats): {note_start_times_beats[0]:.2f} - {note_start_times_beats[-1]:.2f}\")\n",
    "    print(f\"Note Duration (beats): {note_duration_beats}\")\n",
    "elif not midiutil_available:\n",
    "    print(\"MIDIUtil not available, skipping MIDI parameter definition.\")\n",
    "else: \n",
    "    print(\"Not enough data points (or flux_data not properly defined) for MIDI sonification, skipping MIDI parameter definition.\")"
   ]
  },
  {
   "cell_type": "code",
   "execution_count": 309,
   "id": "4b5b110e",
   "metadata": {},
   "outputs": [
    {
     "name": "stdout",
     "output_type": "stream",
     "text": [
      "MIDI file saved as: sonified_transit.mid\n",
      "You can now play this file using a MIDI player (e.g., QuickTime, GarageBand, online sequencer).\n"
     ]
    }
   ],
   "source": [
    "if midiutil_available and 'midi_notes' in locals() and len(midi_notes) > 0: \n",
    "    midi_obj = MIDIFile(1)\n",
    "    midi_obj.addTempo(track, 0, tempo_bpm) \n",
    "\n",
    "    for i in range(len(flux_data)):\n",
    "        pitch = midi_notes[i]\n",
    "        time_beats = note_start_times_beats[i]\n",
    "        duration = midi_durations[i]\n",
    "        midi_obj.addProgramChange(track, channel, time=0, program=49)\n",
    "        midi_obj.addNote(track, channel, pitch, time_beats, duration, 100)\n",
    "\n",
    "    try:\n",
    "        with open(output_midi_file, \"wb\") as f:\n",
    "            midi_obj.writeFile(f)\n",
    "        print(f\"MIDI file saved as: {output_midi_file}\")\n",
    "        print(\"You can now play this file using a MIDI player (e.g., QuickTime, GarageBand, online sequencer).\")\n",
    "    except Exception as e:\n",
    "        print(f\"Error writing MIDI file: {e}\")\n",
    "elif not midiutil_available:\n",
    "    print(\"MIDIUtil not available, skipping MIDI file creation.\")\n",
    "else:\n",
    "    print(\"Not enough data or MIDI parameters not defined, skipping MIDI file creation.\")"
   ]
  }
 ],
 "metadata": {
  "kernelspec": {
   "display_name": "Python 3 (ipykernel)",
   "language": "python",
   "name": "python3"
  },
  "language_info": {
   "codemirror_mode": {
    "name": "ipython",
    "version": 3
   },
   "file_extension": ".py",
   "mimetype": "text/x-python",
   "name": "python",
   "nbconvert_exporter": "python",
   "pygments_lexer": "ipython3",
   "version": "3.12.3"
  }
 },
 "nbformat": 4,
 "nbformat_minor": 5
}
